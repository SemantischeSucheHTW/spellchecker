{
 "cells": [
  {
   "cell_type": "code",
   "execution_count": 1,
   "metadata": {},
   "outputs": [],
   "source": [
    "from dao.mongodbdao import MongoDBDao\n",
    "\n",
    "dao = MongoDBDao({\n",
    "    \"host\": \"127.0.0.1\",\n",
    "    \"db\": \"default\",\n",
    "    \"words_by_length_collection\": \"words_by_length\",\n",
    "    \"username\": \"root\",\n",
    "    \"password\": \"spezanw\",\n",
    "    \"authSource\": \"admin\"\n",
    "})\n"
   ]
  },
  {
   "cell_type": "code",
   "execution_count": 2,
   "metadata": {},
   "outputs": [],
   "source": [
    "#dao.get_all_locations()"
   ]
  },
  {
   "cell_type": "code",
   "execution_count": 3,
   "metadata": {},
   "outputs": [],
   "source": [
    "#dao.insert_some()"
   ]
  },
  {
   "cell_type": "code",
   "execution_count": 4,
   "metadata": {},
   "outputs": [],
   "source": [
    "#print(dao.getPossibleWordLengths())\n",
    "#print(dao.getListForLength(2))\n",
    "#print(dao.get_all())"
   ]
  },
  {
   "cell_type": "code",
   "execution_count": 7,
   "metadata": {},
   "outputs": [],
   "source": [
    "from suggester.suggester import Suggester\n",
    "from pyxdameraulevenshtein import normalized_damerau_levenshtein_distance\n",
    "s = Suggester(dao, min_sim=0.5, n_suggestions=3)\n",
    "#s.damerau_levenshtein_lookup(input_string=\"wort\", min_sim=0.5, n_suggestions=5, n_near_rows=2)\n",
    "#s.lookup(input_string=\"wort\", min_sim=0.5, n_suggestions=5, sim_func= normalized_damerau_levenshtein_distance,n_near_rows=2)\n",
    "\n",
    "result = s.lookup_list([\"hi\", \"Mercedes\".lower(), \"verkaufen\", \"groß\", \"baum\", \"Einbrechere\", \"Schlägrie\"])"
   ]
  },
  {
   "cell_type": "code",
   "execution_count": 8,
   "metadata": {},
   "outputs": [
    {
     "data": {
      "text/plain": [
       "'{\"groß\": [[0.6666666567325592, \"großer\"], [0.75, \"gruß\"], [0.7999999970197678, \"große\"]], \"Einbrechere\": [[0.8181818127632141, \"einbrecher\"], [0.8181818127632141, \"einbrechern\"], [0.8181818127632141, \"einbrechers\"]], \"Schlägrie\": [[0.6666666567325592, \"schläge\"], [0.699999988079071, \"schlägerei\"], [0.699999988079071, \"schlägerin\"]]}'"
      ]
     },
     "execution_count": 8,
     "metadata": {},
     "output_type": "execute_result"
    }
   ],
   "source": []
  },
  {
   "cell_type": "code",
   "execution_count": 9,
   "metadata": {},
   "outputs": [
    {
     "data": {
      "text/plain": [
       "['hi']"
      ]
     },
     "execution_count": 9,
     "metadata": {},
     "output_type": "execute_result"
    }
   ],
   "source": []
  },
  {
   "cell_type": "code",
   "execution_count": null,
   "metadata": {},
   "outputs": [],
   "source": []
  }
 ],
 "metadata": {
  "kernelspec": {
   "display_name": "Python 3",
   "language": "python",
   "name": "python3"
  },
  "language_info": {
   "codemirror_mode": {
    "name": "ipython",
    "version": 3
   },
   "file_extension": ".py",
   "mimetype": "text/x-python",
   "name": "python",
   "nbconvert_exporter": "python",
   "pygments_lexer": "ipython3",
   "version": "3.6.4"
  }
 },
 "nbformat": 4,
 "nbformat_minor": 2
}
