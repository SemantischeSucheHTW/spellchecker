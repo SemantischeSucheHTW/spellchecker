{
 "cells": [
  {
   "cell_type": "code",
   "execution_count": 1,
   "metadata": {},
   "outputs": [],
   "source": [
    "from dao.mongodbdao import MongoDBDao\n",
    "\n",
    "dao = MongoDBDao({\n",
    "    \"host\": \"127.0.0.1\",\n",
    "    \"db\": \"default\",\n",
    "    \"words_by_length_collection\": \"words_by_length\",\n",
    "    \"username\": \"root\",\n",
    "    \"password\": \"spezanw\",\n",
    "    \"authSource\": \"admin\"\n",
    "})\n"
   ]
  },
  {
   "cell_type": "code",
   "execution_count": 2,
   "metadata": {},
   "outputs": [],
   "source": [
    "#dao.get_all_locations()"
   ]
  },
  {
   "cell_type": "code",
   "execution_count": 3,
   "metadata": {},
   "outputs": [],
   "source": [
    "#dao.insert_some()"
   ]
  },
  {
   "cell_type": "code",
   "execution_count": 4,
   "metadata": {},
   "outputs": [
    {
     "name": "stdout",
     "output_type": "stream",
     "text": [
      "[4, 9, 3, 2, 8, 7, 14, 13, 10, 12, 6, 11, 5, 17, 1, 16, 22, 15, 18, 19, 20, 21, 27, 25, 23, 28, 30, 24, 26, 37, 47, 41, 67, 31, 33, 29, 32, 46, 44, 91, 73, 39, 38, 40, 34, 36, 35, 43]\n"
     ]
    }
   ],
   "source": [
    "print(dao.getPossibleWordLengths())\n",
    "#print(dao.getListForLength(2))\n",
    "#print(dao.get_all())"
   ]
  },
  {
   "cell_type": "code",
   "execution_count": null,
   "metadata": {},
   "outputs": [],
   "source": []
  }
 ],
 "metadata": {
  "kernelspec": {
   "display_name": "Python 3",
   "language": "python",
   "name": "python3"
  },
  "language_info": {
   "codemirror_mode": {
    "name": "ipython",
    "version": 3
   },
   "file_extension": ".py",
   "mimetype": "text/x-python",
   "name": "python",
   "nbconvert_exporter": "python",
   "pygments_lexer": "ipython3",
   "version": "3.6.4"
  }
 },
 "nbformat": 4,
 "nbformat_minor": 2
}
