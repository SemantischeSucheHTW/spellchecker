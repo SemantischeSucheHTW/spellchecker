{
 "cells": [
  {
   "cell_type": "code",
   "execution_count": 1,
   "metadata": {},
   "outputs": [],
   "source": [
    "from dao.mongodbdao import MongoDBDao\n",
    "\n",
    "dao = MongoDBDao({\n",
    "    \"host\": \"127.0.0.1\",\n",
    "    \"db\": \"default\",\n",
    "    \"words_by_length_collection\": \"words_by_length\",\n",
    "    \"username\": \"root\",\n",
    "    \"password\": \"spezanw\",\n",
    "    \"authSource\": \"admin\"\n",
    "})\n"
   ]
  },
  {
   "cell_type": "code",
   "execution_count": 9,
   "metadata": {},
   "outputs": [],
   "source": [
    "import datetime\n",
    "def compare_lookup_time(f1, f2):\n",
    "    t1 = datetime.datetime.now()\n",
    "    res=f1()\n",
    "    t2 = datetime.datetime.now()\n",
    "    d = (t2-t1).total_seconds()*1000\n",
    "    print(f1.__name__,\"took\",d,\"milliseconds\")\n",
    "    t1 = datetime.datetime.now()\n",
    "    res=f2()\n",
    "    t2 = datetime.datetime.now()\n",
    "    d = (t2-t1).total_seconds()*1000\n",
    "    print(f2.__name__,\"took\",d,\"milliseconds\")"
   ]
  },
  {
   "cell_type": "code",
   "execution_count": 17,
   "metadata": {},
   "outputs": [
    {
     "name": "stdout",
     "output_type": "stream",
     "text": [
      "all_rows_c took 852.259 milliseconds\n",
      "two_rows_c took 236.646 milliseconds\n"
     ]
    }
   ],
   "source": [
    "from suggester.suggester import Suggester\n",
    "\n",
    "#words = [\"polizee\"]\n",
    "#words = [\"polizee\", \"hauser\"]\n",
    "#words = [\"polizee\", \"hauser\", \"schusswff\"]\n",
    "#words = [\"polizee\", \"hauser\", \"schusswff\", \"rannet\"]\n",
    "words = [\"polizee\", \"hauser\", \"schusswff\", \"rannet\", \"drohgendil\"]\n",
    "\n",
    "def all_rows_python():\n",
    "    s_all = Suggester(dao, min_sim=0.5, n_suggestions=5, n_near_rows=50, min_word_length=4)\n",
    "    result = s_all.lookup_list(words, method='normalized_damerau_levenshtein_python', keep_sims=True)\n",
    "    return result\n",
    "    \n",
    "def all_rows_c():\n",
    "    s_all = Suggester(dao, min_sim=0.5, n_suggestions=5, n_near_rows=50, min_word_length=4)\n",
    "    result = s_all.lookup_list(words, method='normalized_damerau_levenshtein', keep_sims=True)\n",
    "    return result\n",
    "\n",
    "def two_rows_c():\n",
    "    s_all = Suggester(dao, min_sim=0.5, n_suggestions=5, n_near_rows=2, min_word_length=4)\n",
    "    result = s_all.lookup_list(words, method='normalized_damerau_levenshtein', keep_sims=True)\n",
    "    return result\n",
    "\n",
    "#compare_lookup_time(all_rows_python, all_rows_c)\n",
    "compare_lookup_time(all_rows_c, two_rows_c)"
   ]
  },
  {
   "cell_type": "code",
   "execution_count": 4,
   "metadata": {},
   "outputs": [
    {
     "ename": "SyntaxError",
     "evalue": "invalid syntax (<ipython-input-4-c1ace1d47f65>, line 2)",
     "output_type": "error",
     "traceback": [
      "\u001b[0;36m  File \u001b[0;32m\"<ipython-input-4-c1ace1d47f65>\"\u001b[0;36m, line \u001b[0;32m2\u001b[0m\n\u001b[0;31m    textdistance.\u001b[0m\n\u001b[0m                 ^\u001b[0m\n\u001b[0;31mSyntaxError\u001b[0m\u001b[0;31m:\u001b[0m invalid syntax\n"
     ]
    }
   ],
   "source": [
    "import textdistance\n",
    "#textdistance."
   ]
  },
  {
   "cell_type": "code",
   "execution_count": null,
   "metadata": {},
   "outputs": [],
   "source": []
  },
  {
   "cell_type": "code",
   "execution_count": null,
   "metadata": {},
   "outputs": [],
   "source": []
  },
  {
   "cell_type": "code",
   "execution_count": null,
   "metadata": {},
   "outputs": [],
   "source": [
    "[\"hi\", \"Mercedes\".lower(), \"verkaufen\", \"groß\", \"baum\", \"Einbrechere\", \"Schlägrie\", \"geschossn\"]"
   ]
  }
 ],
 "metadata": {
  "kernelspec": {
   "display_name": "Python 3",
   "language": "python",
   "name": "python3"
  },
  "language_info": {
   "codemirror_mode": {
    "name": "ipython",
    "version": 3
   },
   "file_extension": ".py",
   "mimetype": "text/x-python",
   "name": "python",
   "nbconvert_exporter": "python",
   "pygments_lexer": "ipython3",
   "version": "3.6.4"
  }
 },
 "nbformat": 4,
 "nbformat_minor": 2
}
